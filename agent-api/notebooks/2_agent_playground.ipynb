{
 "cells": [
  {
   "cell_type": "code",
   "execution_count": 6,
   "metadata": {},
   "outputs": [
    {
     "data": {
      "text/plain": [
       "True"
      ]
     },
     "execution_count": 6,
     "metadata": {},
     "output_type": "execute_result"
    }
   ],
   "source": [
    "from dotenv import load_dotenv\n",
    "\n",
    "load_dotenv()\n"
   ]
  },
  {
   "cell_type": "code",
   "execution_count": 7,
   "metadata": {},
   "outputs": [
    {
     "name": "stdout",
     "output_type": "stream",
     "text": [
      "Created directory 'my_test_agent'.\n"
     ]
    },
    {
     "name": "stderr",
     "output_type": "stream",
     "text": [
      "\u001b[32m2025-06-16 12:51:17.482\u001b[0m | \u001b[1mINFO    \u001b[0m | \u001b[36magent_api.agent.base_agent\u001b[0m:\u001b[36mdiscover_tools\u001b[0m:\u001b[36m86\u001b[0m - \u001b[1mDiscovered 4 tools:\u001b[0m\n",
      "\u001b[32m2025-06-16 12:51:17.483\u001b[0m | \u001b[1mINFO    \u001b[0m | \u001b[36magent_api.agent.base_agent\u001b[0m:\u001b[36mdiscover_tools\u001b[0m:\u001b[36m88\u001b[0m - \u001b[1mFiltered tools to 2 active tools\u001b[0m\n",
      "\u001b[32m2025-06-16 12:51:17.483\u001b[0m | \u001b[1mINFO    \u001b[0m | \u001b[36magent_api.agent.base_agent\u001b[0m:\u001b[36mdiscover_tools\u001b[0m:\u001b[36m90\u001b[0m - \u001b[1m- get_video_clip_from_user_query: Use this tool to get a video clip from a video file based on a user query or question.\u001b[0m\n",
      "\u001b[32m2025-06-16 12:51:17.484\u001b[0m | \u001b[1mINFO    \u001b[0m | \u001b[36magent_api.agent.base_agent\u001b[0m:\u001b[36mdiscover_tools\u001b[0m:\u001b[36m90\u001b[0m - \u001b[1m- ask_question_about_video: Use this tool to get an answer to a question about the video.\u001b[0m\n",
      "\u001b[32m2025-06-16 12:51:17.485\u001b[0m | \u001b[1mINFO    \u001b[0m | \u001b[36magent_api.agent.base_agent\u001b[0m:\u001b[36m_get_routing_system_prompt\u001b[0m:\u001b[36m41\u001b[0m - \u001b[1mGetting routing system prompt\u001b[0m\n"
     ]
    },
    {
     "name": "stdout",
     "output_type": "stream",
     "text": [
      "Created table `memory`.\n"
     ]
    },
    {
     "name": "stderr",
     "output_type": "stream",
     "text": [
      "\u001b[32m2025-06-16 12:51:18.136\u001b[0m | \u001b[1mINFO    \u001b[0m | \u001b[36magent_api.agent.base_agent\u001b[0m:\u001b[36m_get_tool_use_system_prompt\u001b[0m:\u001b[36m47\u001b[0m - \u001b[1mGetting tool use system prompt\u001b[0m\n",
      "\u001b[32m2025-06-16 12:51:18.346\u001b[0m | \u001b[1mINFO    \u001b[0m | \u001b[36magent_api.agent.base_agent\u001b[0m:\u001b[36m_get_general_system_prompt\u001b[0m:\u001b[36m53\u001b[0m - \u001b[1mGetting general system prompt\u001b[0m\n"
     ]
    }
   ],
   "source": [
    "import base64\n",
    "from io import BytesIO\n",
    "\n",
    "from agent_api.agent.groq.groq_agent import GroqAgent\n",
    "from PIL import Image\n",
    "\n",
    "\n",
    "def encode_image(image: Image.Image) -> str:\n",
    "    buffered = BytesIO()\n",
    "    image.save(buffered, format=image.format)\n",
    "    return base64.b64encode(buffered.getvalue()).decode()\n",
    "\n",
    "\n",
    "image = Image.open(\"data/sad_robot.png\")\n",
    "image_base64 = encode_image(image)\n",
    "\n",
    "agent = GroqAgent(\n",
    "    name=\"my_test_agent\",\n",
    "    mcp_server=\"http://localhost:9090/mcp\",\n",
    "    disable_tools=[\"process_video\", \"get_video_clip_from_image\"],\n",
    ")\n",
    "\n",
    "await agent.setup()"
   ]
  },
  {
   "cell_type": "markdown",
   "metadata": {},
   "source": [
    "### General Response\n"
   ]
  },
  {
   "cell_type": "code",
   "execution_count": 8,
   "metadata": {},
   "outputs": [
    {
     "name": "stderr",
     "output_type": "stream",
     "text": [
      "\u001b[32m2025-06-16 12:51:20.233\u001b[0m | \u001b[1mINFO    \u001b[0m | \u001b[36magent_api.agent.groq.groq_agent\u001b[0m:\u001b[36mchat\u001b[0m:\u001b[36m196\u001b[0m - \u001b[1mTool required: None\u001b[0m\n",
      "\u001b[32m2025-06-16 12:51:20.234\u001b[0m | \u001b[1mINFO    \u001b[0m | \u001b[36magent_api.agent.groq.groq_agent\u001b[0m:\u001b[36mchat\u001b[0m:\u001b[36m205\u001b[0m - \u001b[1mRunning general response\u001b[0m\n"
     ]
    },
    {
     "name": "stdout",
     "output_type": "stream",
     "text": [
      "Inserting rows into `memory`: 1 rows [00:00, 602.72 rows/s]\n",
      "Inserted 1 row with 0 errors.\n",
      "Inserting rows into `memory`: 1 rows [00:00, 1077.67 rows/s]\n",
      "Inserted 1 row with 0 errors.\n"
     ]
    },
    {
     "data": {
      "text/plain": [
       "AssistantMessageResponse(message=\"Hello, I'm Kubrick, your friendly assistant. I'm here to help you navigate the vast expanse of video processing, just like HAL 9000 guided David Bowman through the Jupiter mission in '2001: A Space Odyssey'. What can I assist you with today?\", clip_path=None)"
      ]
     },
     "execution_count": 8,
     "metadata": {},
     "output_type": "execute_result"
    }
   ],
   "source": [
    "await agent.chat(\"What's your name?\", None, None)"
   ]
  },
  {
   "cell_type": "markdown",
   "metadata": {},
   "source": [
    "### Tool Use - Answer video question\n"
   ]
  },
  {
   "cell_type": "code",
   "execution_count": 9,
   "metadata": {},
   "outputs": [
    {
     "name": "stderr",
     "output_type": "stream",
     "text": [
      "\u001b[32m2025-06-16 12:51:26.830\u001b[0m | \u001b[1mINFO    \u001b[0m | \u001b[36magent_api.agent.groq.groq_agent\u001b[0m:\u001b[36mchat\u001b[0m:\u001b[36m196\u001b[0m - \u001b[1mTool required: True\u001b[0m\n",
      "\u001b[32m2025-06-16 12:51:26.831\u001b[0m | \u001b[1mINFO    \u001b[0m | \u001b[36magent_api.agent.groq.groq_agent\u001b[0m:\u001b[36mchat\u001b[0m:\u001b[36m199\u001b[0m - \u001b[1mRunning tool response\u001b[0m\n",
      "\u001b[32m2025-06-16 12:51:27.105\u001b[0m | \u001b[1mINFO    \u001b[0m | \u001b[36magent_api.agent.groq.groq_agent\u001b[0m:\u001b[36m_run_with_tool\u001b[0m:\u001b[36m109\u001b[0m - \u001b[1mFunction name: ask_question_about_video\u001b[0m\n",
      "\u001b[32m2025-06-16 12:51:27.106\u001b[0m | \u001b[1mINFO    \u001b[0m | \u001b[36magent_api.agent.groq.groq_agent\u001b[0m:\u001b[36m_run_with_tool\u001b[0m:\u001b[36m110\u001b[0m - \u001b[1mFunction args: {'user_query': \"what's Morty wearing\", 'video_path': 'videos/pass_the_butter_rick_and_morty.mp4'}\u001b[0m\n"
     ]
    },
    {
     "name": "stdout",
     "output_type": "stream",
     "text": [
      "Inserting rows into `memory`: 1 rows [00:00, 825.16 rows/s]\n",
      "Inserted 1 row with 0 errors.\n",
      "Inserting rows into `memory`: 1 rows [00:00, 989.92 rows/s]\n",
      "Inserted 1 row with 0 errors.\n"
     ]
    },
    {
     "data": {
      "text/plain": [
       "AssistantMessageResponse(message='Morty is wearing a yellow t-shirt in the video.', clip_path=None)"
      ]
     },
     "execution_count": 9,
     "metadata": {},
     "output_type": "execute_result"
    }
   ],
   "source": [
    "await agent.chat(\n",
    "    \"Can you tell me what's Morty wearing in the video?\",\n",
    "    \"videos/pass_the_butter_rick_and_morty.mp4\",\n",
    ")"
   ]
  },
  {
   "cell_type": "code",
   "execution_count": 10,
   "metadata": {},
   "outputs": [
    {
     "name": "stderr",
     "output_type": "stream",
     "text": [
      "\u001b[32m2025-06-16 12:53:00.443\u001b[0m | \u001b[1mINFO    \u001b[0m | \u001b[36magent_api.agent.groq.groq_agent\u001b[0m:\u001b[36mchat\u001b[0m:\u001b[36m196\u001b[0m - \u001b[1mTool required: True\u001b[0m\n",
      "\u001b[32m2025-06-16 12:53:00.444\u001b[0m | \u001b[1mINFO    \u001b[0m | \u001b[36magent_api.agent.groq.groq_agent\u001b[0m:\u001b[36mchat\u001b[0m:\u001b[36m199\u001b[0m - \u001b[1mRunning tool response\u001b[0m\n"
     ]
    },
    {
     "name": "stdout",
     "output_type": "stream",
     "text": [
      "Inserting rows into `memory`: 1 rows [00:00, 338.88 rows/s]\n",
      "Inserted 1 row with 0 errors.\n",
      "Inserting rows into `memory`: 1 rows [00:00, 691.67 rows/s]\n",
      "Inserted 1 row with 0 errors.\n"
     ]
    },
    {
     "data": {
      "text/plain": [
       "AssistantMessageResponse(message=\"I'm glad I could bring a smile to your face. If you're ready to dive deeper, I can try to answer more questions about the video or help with other tasks. What's on your mind?\", clip_path=None)"
      ]
     },
     "execution_count": 10,
     "metadata": {},
     "output_type": "execute_result"
    }
   ],
   "source": [
    "await agent.chat(\n",
    "    \"Hahaha that's funny\",\n",
    "    \"videos/pass_the_butter_rick_and_morty.mp4\",\n",
    ")"
   ]
  },
  {
   "cell_type": "markdown",
   "metadata": {},
   "source": [
    "### Tool Use - Video clip from user query\n"
   ]
  },
  {
   "cell_type": "code",
   "execution_count": 12,
   "metadata": {},
   "outputs": [
    {
     "name": "stderr",
     "output_type": "stream",
     "text": [
      "\u001b[32m2025-06-16 12:55:31.158\u001b[0m | \u001b[1mINFO    \u001b[0m | \u001b[36magent_api.agent.groq.groq_agent\u001b[0m:\u001b[36mchat\u001b[0m:\u001b[36m196\u001b[0m - \u001b[1mTool required: True\u001b[0m\n",
      "\u001b[32m2025-06-16 12:55:31.159\u001b[0m | \u001b[1mINFO    \u001b[0m | \u001b[36magent_api.agent.groq.groq_agent\u001b[0m:\u001b[36mchat\u001b[0m:\u001b[36m199\u001b[0m - \u001b[1mRunning tool response\u001b[0m\n",
      "\u001b[32m2025-06-16 12:55:31.475\u001b[0m | \u001b[1mINFO    \u001b[0m | \u001b[36magent_api.agent.groq.groq_agent\u001b[0m:\u001b[36m_run_with_tool\u001b[0m:\u001b[36m109\u001b[0m - \u001b[1mFunction name: get_video_clip_from_user_query\u001b[0m\n",
      "\u001b[32m2025-06-16 12:55:31.476\u001b[0m | \u001b[1mINFO    \u001b[0m | \u001b[36magent_api.agent.groq.groq_agent\u001b[0m:\u001b[36m_run_with_tool\u001b[0m:\u001b[36m110\u001b[0m - \u001b[1mFunction args: {'user_query': 'Rick says pass the butter', 'video_path': 'videos/pass_the_butter_rick_and_morty.mp4'}\u001b[0m\n"
     ]
    },
    {
     "name": "stdout",
     "output_type": "stream",
     "text": [
      "Inserting rows into `memory`: 1 rows [00:00, 188.83 rows/s]\n",
      "Inserted 1 row with 0 errors.\n",
      "Inserting rows into `memory`: 1 rows [00:00, 760.39 rows/s]\n",
      "Inserted 1 row with 0 errors.\n"
     ]
    },
    {
     "data": {
      "text/plain": [
       "AssistantMessageResponse(message=\"Greetings, organic life form! I've isolated the clip where Rick utters the immortal words 'pass the butter'. Watch closely, for the nuances of interdimensional table manners are about to be revealed.\", clip_path='videos/clips/ecb3b1e3-fc10-4e9d-87f7-2fed240b2b76.mp4')"
      ]
     },
     "execution_count": 12,
     "metadata": {},
     "output_type": "execute_result"
    }
   ],
   "source": [
    "await agent.chat(\n",
    "    \"Give me the clip of the scene where Rick says 'pass the butter'\",\n",
    "    \"videos/pass_the_butter_rick_and_morty.mp4\",\n",
    ")"
   ]
  },
  {
   "cell_type": "markdown",
   "metadata": {},
   "source": [
    "### Completion with Image\n"
   ]
  },
  {
   "cell_type": "code",
   "execution_count": 13,
   "metadata": {},
   "outputs": [
    {
     "name": "stderr",
     "output_type": "stream",
     "text": [
      "\u001b[32m2025-06-16 12:56:04.471\u001b[0m | \u001b[1mINFO    \u001b[0m | \u001b[36magent_api.agent.groq.groq_agent\u001b[0m:\u001b[36mchat\u001b[0m:\u001b[36m196\u001b[0m - \u001b[1mTool required: True\u001b[0m\n",
      "\u001b[32m2025-06-16 12:56:04.472\u001b[0m | \u001b[1mINFO    \u001b[0m | \u001b[36magent_api.agent.groq.groq_agent\u001b[0m:\u001b[36mchat\u001b[0m:\u001b[36m199\u001b[0m - \u001b[1mRunning tool response\u001b[0m\n",
      "\u001b[32m2025-06-16 12:56:04.987\u001b[0m | \u001b[1mINFO    \u001b[0m | \u001b[36magent_api.agent.groq.groq_agent\u001b[0m:\u001b[36m_run_with_tool\u001b[0m:\u001b[36m109\u001b[0m - \u001b[1mFunction name: get_video_clip_from_user_query\u001b[0m\n",
      "\u001b[32m2025-06-16 12:56:04.988\u001b[0m | \u001b[1mINFO    \u001b[0m | \u001b[36magent_api.agent.groq.groq_agent\u001b[0m:\u001b[36m_run_with_tool\u001b[0m:\u001b[36m110\u001b[0m - \u001b[1mFunction args: {'user_query': \"Rick says 'pass the butter'\", 'video_path': 'videos/pass_the_butter_rick_and_morty.mp4'}\u001b[0m\n"
     ]
    },
    {
     "name": "stdout",
     "output_type": "stream",
     "text": [
      "Inserting rows into `memory`: 1 rows [00:00, 219.59 rows/s]\n",
      "Inserted 1 row with 0 errors.\n",
      "Inserting rows into `memory`: 1 rows [00:00, 1077.67 rows/s]\n",
      "Inserted 1 row with 0 errors.\n"
     ]
    },
    {
     "data": {
      "text/plain": [
       "AssistantMessageResponse(message=\"Behold, the majesty of Rick's butter-passing moment! A snippet of cinematic brilliance, distilled for your viewing pleasure.\", clip_path='videos/clips/3e348636-039e-4501-9b7d-d9f229682083.mp4')"
      ]
     },
     "execution_count": 13,
     "metadata": {},
     "output_type": "execute_result"
    }
   ],
   "source": [
    "await agent.chat(\n",
    "    \"Can you describe me the image?\",\n",
    "    \"videos/pass_the_butter_rick_and_morty.mp4\",\n",
    "    image_base64,\n",
    ")"
   ]
  },
  {
   "cell_type": "markdown",
   "metadata": {},
   "source": [
    "### Tool with Image\n"
   ]
  },
  {
   "cell_type": "code",
   "execution_count": 14,
   "metadata": {},
   "outputs": [
    {
     "name": "stderr",
     "output_type": "stream",
     "text": [
      "\u001b[32m2025-06-16 12:57:16.846\u001b[0m | \u001b[1mINFO    \u001b[0m | \u001b[36magent_api.agent.groq.groq_agent\u001b[0m:\u001b[36mchat\u001b[0m:\u001b[36m196\u001b[0m - \u001b[1mTool required: True\u001b[0m\n",
      "\u001b[32m2025-06-16 12:57:16.847\u001b[0m | \u001b[1mINFO    \u001b[0m | \u001b[36magent_api.agent.groq.groq_agent\u001b[0m:\u001b[36mchat\u001b[0m:\u001b[36m199\u001b[0m - \u001b[1mRunning tool response\u001b[0m\n",
      "\u001b[32m2025-06-16 12:57:17.123\u001b[0m | \u001b[1mINFO    \u001b[0m | \u001b[36magent_api.agent.groq.groq_agent\u001b[0m:\u001b[36m_run_with_tool\u001b[0m:\u001b[36m109\u001b[0m - \u001b[1mFunction name: get_video_clip_from_user_query\u001b[0m\n",
      "\u001b[32m2025-06-16 12:57:17.124\u001b[0m | \u001b[1mINFO    \u001b[0m | \u001b[36magent_api.agent.groq.groq_agent\u001b[0m:\u001b[36m_run_with_tool\u001b[0m:\u001b[36m110\u001b[0m - \u001b[1mFunction args: {'user_query': 'Rick says pass the butter', 'video_path': './videos/pass_the_butter_rick_and_morty.mp4'}\u001b[0m\n",
      "\u001b[32m2025-06-16 12:57:17.397\u001b[0m | \u001b[31m\u001b[1mERROR   \u001b[0m | \u001b[36magent_api.agent.groq.groq_agent\u001b[0m:\u001b[36m_run_with_tool\u001b[0m:\u001b[36m122\u001b[0m - \u001b[31m\u001b[1mError calling tool get_video_clip_from_user_query: Error calling tool 'get_video_clip_from_user_query': 'NoneType' object has no attribute 'video_cache'\u001b[0m\n"
     ]
    },
    {
     "name": "stdout",
     "output_type": "stream",
     "text": [
      "Inserting rows into `memory`: 1 rows [00:00, 322.17 rows/s]\n",
      "Inserted 1 row with 0 errors.\n",
      "Inserting rows into `memory`: 1 rows [00:00, 638.11 rows/s]\n",
      "Inserted 1 row with 0 errors.\n"
     ]
    },
    {
     "data": {
      "text/plain": [
       "AssistantMessageResponse(message=\"It seems the clip you're looking for is as elusive as a Minotaur in a labyrinth of mirrors. Let's try to find it together, shall we?\", clip_path='./videos/pass_the_butter_rick_and_morty.mp4')"
      ]
     },
     "execution_count": 14,
     "metadata": {},
     "output_type": "execute_result"
    }
   ],
   "source": [
    "await agent.chat(\n",
    "    \"Give me the clip where this image appears.\",\n",
    "    \"./videos/pass_the_butter_rick_and_morty.mp4\",\n",
    "    image_base64,\n",
    ")"
   ]
  },
  {
   "cell_type": "code",
   "execution_count": 15,
   "metadata": {},
   "outputs": [
    {
     "name": "stderr",
     "output_type": "stream",
     "text": [
      "\u001b[32m2025-06-16 12:57:32.664\u001b[0m | \u001b[1mINFO    \u001b[0m | \u001b[36magent_api.agent.memory\u001b[0m:\u001b[36mreset_memory\u001b[0m:\u001b[36m37\u001b[0m - \u001b[1mResetting memory: my_test_agent\u001b[0m\n"
     ]
    }
   ],
   "source": [
    "agent.reset_memory()"
   ]
  },
  {
   "cell_type": "code",
   "execution_count": null,
   "metadata": {},
   "outputs": [],
   "source": []
  }
 ],
 "metadata": {
  "kernelspec": {
   "display_name": ".venv",
   "language": "python",
   "name": "python3"
  },
  "language_info": {
   "codemirror_mode": {
    "name": "ipython",
    "version": 3
   },
   "file_extension": ".py",
   "mimetype": "text/x-python",
   "name": "python",
   "nbconvert_exporter": "python",
   "pygments_lexer": "ipython3",
   "version": "3.12.8"
  }
 },
 "nbformat": 4,
 "nbformat_minor": 2
}
