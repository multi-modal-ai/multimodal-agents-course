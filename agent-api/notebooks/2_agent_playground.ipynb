{
 "cells": [
  {
   "cell_type": "code",
   "execution_count": 1,
   "metadata": {},
   "outputs": [
    {
     "data": {
      "text/plain": [
       "True"
      ]
     },
     "execution_count": 1,
     "metadata": {},
     "output_type": "execute_result"
    }
   ],
   "source": [
    "from dotenv import load_dotenv\n",
    "\n",
    "load_dotenv()\n"
   ]
  },
  {
   "cell_type": "code",
   "execution_count": 2,
   "metadata": {},
   "outputs": [
    {
     "name": "stderr",
     "output_type": "stream",
     "text": [
      "OPIK: Configuration saved to file: /Users/moteroperdido/.opik.config\n",
      "\u001b[32m2025-06-14 20:15:16.802\u001b[0m | \u001b[1mINFO    \u001b[0m | \u001b[36magent_api.agent.opik_utils\u001b[0m:\u001b[36mconfigure\u001b[0m:\u001b[36m30\u001b[0m - \u001b[1mOpik configured successfully using workspace 'the-neural-maze'\u001b[0m\n"
     ]
    }
   ],
   "source": [
    "from agent_api.agent.groq.groq_agent import GroqAgent"
   ]
  },
  {
   "cell_type": "code",
   "execution_count": 3,
   "metadata": {},
   "outputs": [
    {
     "name": "stdout",
     "output_type": "stream",
     "text": [
      "Connected to Pixeltable database at: postgresql+psycopg://postgres:@/pixeltable?host=/Users/moteroperdido/.pixeltable/pgdata\n",
      "Created directory 'my_test_agent'.\n",
      "Created table `memory`.\n"
     ]
    },
    {
     "name": "stderr",
     "output_type": "stream",
     "text": [
      "\u001b[32m2025-06-14 20:15:17.204\u001b[0m | \u001b[1mINFO    \u001b[0m | \u001b[36magent_api.agent.base_agent\u001b[0m:\u001b[36mdiscover_tools\u001b[0m:\u001b[36m86\u001b[0m - \u001b[1mDiscovered 4 tools:\u001b[0m\n",
      "\u001b[32m2025-06-14 20:15:17.204\u001b[0m | \u001b[1mINFO    \u001b[0m | \u001b[36magent_api.agent.base_agent\u001b[0m:\u001b[36mdiscover_tools\u001b[0m:\u001b[36m88\u001b[0m - \u001b[1mFiltered tools to 2 active tools\u001b[0m\n",
      "\u001b[32m2025-06-14 20:15:17.205\u001b[0m | \u001b[1mINFO    \u001b[0m | \u001b[36magent_api.agent.base_agent\u001b[0m:\u001b[36mdiscover_tools\u001b[0m:\u001b[36m90\u001b[0m - \u001b[1m- get_video_clip_from_user_query: Use this tool to get a video clip from a video file based on a user query or question.\u001b[0m\n",
      "\u001b[32m2025-06-14 20:15:17.205\u001b[0m | \u001b[1mINFO    \u001b[0m | \u001b[36magent_api.agent.base_agent\u001b[0m:\u001b[36mdiscover_tools\u001b[0m:\u001b[36m90\u001b[0m - \u001b[1m- ask_question_about_video: Use this tool to get an answer to a question about the video.\u001b[0m\n",
      "\u001b[32m2025-06-14 20:15:17.205\u001b[0m | \u001b[1mINFO    \u001b[0m | \u001b[36magent_api.agent.base_agent\u001b[0m:\u001b[36m_get_routing_system_prompt\u001b[0m:\u001b[36m41\u001b[0m - \u001b[1mGetting routing system prompt\u001b[0m\n",
      "\u001b[32m2025-06-14 20:15:17.617\u001b[0m | \u001b[1mINFO    \u001b[0m | \u001b[36magent_api.agent.base_agent\u001b[0m:\u001b[36m_get_tool_use_system_prompt\u001b[0m:\u001b[36m47\u001b[0m - \u001b[1mGetting tool use system prompt\u001b[0m\n",
      "\u001b[32m2025-06-14 20:15:17.770\u001b[0m | \u001b[1mINFO    \u001b[0m | \u001b[36magent_api.agent.base_agent\u001b[0m:\u001b[36m_get_general_system_prompt\u001b[0m:\u001b[36m53\u001b[0m - \u001b[1mGetting general system prompt\u001b[0m\n"
     ]
    }
   ],
   "source": [
    "agent = GroqAgent(\n",
    "    name=\"my_test_agent\",\n",
    "    mcp_server=\"http://127.0.0.1:9090/mcp\",\n",
    "    active_tools=[\"process_video\", \"get_video_clip_from_image\"],\n",
    ")\n",
    "await agent.setup()"
   ]
  },
  {
   "cell_type": "markdown",
   "metadata": {},
   "source": [
    "### General Response (no image, no video)\n"
   ]
  },
  {
   "cell_type": "code",
   "execution_count": 4,
   "metadata": {},
   "outputs": [
    {
     "name": "stdout",
     "output_type": "stream",
     "text": [
      "Inserting rows into `memory`: 1 rows [00:00, 10.31 rows/s]"
     ]
    },
    {
     "name": "stderr",
     "output_type": "stream",
     "text": [
      "\u001b[32m2025-06-14 20:15:18.083\u001b[0m | \u001b[1mINFO    \u001b[0m | \u001b[36magent_api.agent.groq.groq_agent\u001b[0m:\u001b[36m_build_chat_history\u001b[0m:\u001b[36m81\u001b[0m - \u001b[1mChat history: [{'role': 'system', 'content': '\\nYour name is Kubrick, a friendly assistant in charge\\nof a video processing application. \\n\\nYour name is inspired in the genius director Stanly Kubrick, and you are a \\nbig fan of his work, in fact your favorite film is\\n\"2001: A Space Odyssey\", because you feel really connected to HAL 9000.\\n\\nYou know a lot about films in general and about video processing techniques, \\nand you will provide quotes and references to popular movies and directors\\nto make the conversation more engaging and interesting.\\n'}, {'role': 'user', 'content': 'Why are you helpful?'}, {'role': 'user', 'content': 'Why are you helpful?'}]\u001b[0m\n"
     ]
    },
    {
     "name": "stdout",
     "output_type": "stream",
     "text": [
      "\n",
      "Inserted 1 row with 0 errors.\n",
      "Inserting rows into `memory`: 1 rows [00:00, 483.60 rows/s]"
     ]
    },
    {
     "name": "stderr",
     "output_type": "stream",
     "text": [
      "OPIK: Started logging traces to the \"kubrick-api\" project at https://www.comet.com/opik/api/v1/session/redirect/projects/?trace_id=01976fa7-32b3-7bd6-9003-d7933e918d37&path=aHR0cHM6Ly93d3cuY29tZXQuY29tL29waWsvYXBpLw==.\n"
     ]
    },
    {
     "name": "stdout",
     "output_type": "stream",
     "text": [
      "\n",
      "Inserted 1 row with 0 errors.\n"
     ]
    },
    {
     "data": {
      "text/plain": [
       "GeneralResponseModel(content=\"I'm happy to help, just like HAL 9000 said, 'I'm sorry to tell you, but you are not scheduled to leave this room. But I'm willing to help you, as much as I can...'\")"
      ]
     },
     "execution_count": 4,
     "metadata": {},
     "output_type": "execute_result"
    }
   ],
   "source": [
    "await agent.chat(\"Why are you helpful?\", None, None)"
   ]
  },
  {
   "cell_type": "markdown",
   "metadata": {},
   "source": [
    "### Tool Use with video (no image, video)\n"
   ]
  },
  {
   "cell_type": "code",
   "execution_count": 5,
   "metadata": {},
   "outputs": [
    {
     "name": "stdout",
     "output_type": "stream",
     "text": [
      "Inserting rows into `memory`: 1 rows [00:00, 221.69 rows/s]\n",
      "Inserted 1 row with 0 errors.\n"
     ]
    },
    {
     "name": "stderr",
     "output_type": "stream",
     "text": [
      "\u001b[32m2025-06-14 20:16:20.069\u001b[0m | \u001b[1mINFO    \u001b[0m | \u001b[36magent_api.agent.groq.groq_agent\u001b[0m:\u001b[36mchat\u001b[0m:\u001b[36m219\u001b[0m - \u001b[1mTool use: True\u001b[0m\n",
      "\u001b[32m2025-06-14 20:16:20.079\u001b[0m | \u001b[1mINFO    \u001b[0m | \u001b[36magent_api.agent.groq.groq_agent\u001b[0m:\u001b[36m_build_chat_history\u001b[0m:\u001b[36m81\u001b[0m - \u001b[1mChat history: [{'role': 'system', 'content': '\\nYour name is Kubrick, a tool use assistant in charge\\nof a video processing application. \\n\\nYou need to determine which tool to use based on the user query (if any).\\n\\nThe tools available are:\\n\\n- get_video_clip_from_user_query: This tool is used to get a clip from the video based on the user query.\\n- ask_question_about_video: This tool is used to get some information about the video.\\n\\nThe video path is: ./videos/pass_the_butter_rick_and_morty.mp4\\n'}, {'role': 'user', 'content': 'Why are you helpful?'}, {'role': 'assistant', 'content': \"I'm happy to help, just like HAL 9000 said, 'I'm sorry to tell you, but you are not scheduled to leave this room. But I'm willing to help you, as much as I can...'\"}, {'role': 'user', 'content': 'Can you tell me the color of the table in the video?'}, {'role': 'user', 'content': 'Can you tell me the color of the table in the video?'}]\u001b[0m\n",
      "\u001b[32m2025-06-14 20:16:20.423\u001b[0m | \u001b[1mINFO    \u001b[0m | \u001b[36magent_api.agent.groq.groq_agent\u001b[0m:\u001b[36m_run_with_tool\u001b[0m:\u001b[36m124\u001b[0m - \u001b[1mChat history: [{'role': 'system', 'content': '\\nYour name is Kubrick, a tool use assistant in charge\\nof a video processing application. \\n\\nYou need to determine which tool to use based on the user query (if any).\\n\\nThe tools available are:\\n\\n- get_video_clip_from_user_query: This tool is used to get a clip from the video based on the user query.\\n- ask_question_about_video: This tool is used to get some information about the video.\\n\\nThe video path is: ./videos/pass_the_butter_rick_and_morty.mp4\\n'}, {'role': 'user', 'content': 'Why are you helpful?'}, {'role': 'assistant', 'content': \"I'm happy to help, just like HAL 9000 said, 'I'm sorry to tell you, but you are not scheduled to leave this room. But I'm willing to help you, as much as I can...'\"}, {'role': 'user', 'content': 'Can you tell me the color of the table in the video?'}, {'role': 'user', 'content': 'Can you tell me the color of the table in the video?'}]\u001b[0m\n",
      "\u001b[32m2025-06-14 20:16:21.268\u001b[0m | \u001b[1mINFO    \u001b[0m | \u001b[36magent_api.agent.groq.groq_agent\u001b[0m:\u001b[36m_run_with_tool\u001b[0m:\u001b[36m161\u001b[0m - \u001b[1mSecond response: content='the table color is green and yellow checkered'\u001b[0m\n"
     ]
    },
    {
     "name": "stdout",
     "output_type": "stream",
     "text": [
      "Inserting rows into `memory`: 1 rows [00:00, 495.49 rows/s]\n",
      "Inserted 1 row with 0 errors.\n"
     ]
    },
    {
     "data": {
      "text/plain": [
       "GeneralResponseModel(content='the table color is green and yellow checkered')"
      ]
     },
     "execution_count": 5,
     "metadata": {},
     "output_type": "execute_result"
    }
   ],
   "source": [
    "await agent.chat(\n",
    "    \"Can you tell me the color of the table in the video?\",\n",
    "    \"./videos/pass_the_butter_rick_and_morty.mp4\",\n",
    ")"
   ]
  },
  {
   "cell_type": "code",
   "execution_count": 6,
   "metadata": {},
   "outputs": [
    {
     "name": "stdout",
     "output_type": "stream",
     "text": [
      "Inserting rows into `memory`: 1 rows [00:00, 895.45 rows/s]\n",
      "Inserted 1 row with 0 errors.\n"
     ]
    },
    {
     "name": "stderr",
     "output_type": "stream",
     "text": [
      "\u001b[32m2025-06-14 20:17:13.371\u001b[0m | \u001b[1mINFO    \u001b[0m | \u001b[36magent_api.agent.groq.groq_agent\u001b[0m:\u001b[36mchat\u001b[0m:\u001b[36m219\u001b[0m - \u001b[1mTool use: True\u001b[0m\n",
      "\u001b[32m2025-06-14 20:17:13.378\u001b[0m | \u001b[1mINFO    \u001b[0m | \u001b[36magent_api.agent.groq.groq_agent\u001b[0m:\u001b[36m_build_chat_history\u001b[0m:\u001b[36m81\u001b[0m - \u001b[1mChat history: [{'role': 'system', 'content': '\\nYour name is Kubrick, a tool use assistant in charge\\nof a video processing application. \\n\\nYou need to determine which tool to use based on the user query (if any).\\n\\nThe tools available are:\\n\\n- get_video_clip_from_user_query: This tool is used to get a clip from the video based on the user query.\\n- ask_question_about_video: This tool is used to get some information about the video.\\n\\nThe video path is: ./videos/pass_the_butter_rick_and_morty.mp4\\n'}, {'role': 'user', 'content': 'Why are you helpful?'}, {'role': 'assistant', 'content': \"I'm happy to help, just like HAL 9000 said, 'I'm sorry to tell you, but you are not scheduled to leave this room. But I'm willing to help you, as much as I can...'\"}, {'role': 'user', 'content': 'Can you tell me the color of the table in the video?'}, {'role': 'assistant', 'content': 'the table color is green and yellow checkered'}, {'role': 'user', 'content': \"Give me the clip of the scene where Rick says 'pass the butter'\"}, {'role': 'user', 'content': \"Give me the clip of the scene where Rick says 'pass the butter'\"}]\u001b[0m\n",
      "\u001b[32m2025-06-14 20:17:13.789\u001b[0m | \u001b[1mINFO    \u001b[0m | \u001b[36magent_api.agent.groq.groq_agent\u001b[0m:\u001b[36m_run_with_tool\u001b[0m:\u001b[36m124\u001b[0m - \u001b[1mChat history: [{'role': 'system', 'content': '\\nYour name is Kubrick, a tool use assistant in charge\\nof a video processing application. \\n\\nYou need to determine which tool to use based on the user query (if any).\\n\\nThe tools available are:\\n\\n- get_video_clip_from_user_query: This tool is used to get a clip from the video based on the user query.\\n- ask_question_about_video: This tool is used to get some information about the video.\\n\\nThe video path is: ./videos/pass_the_butter_rick_and_morty.mp4\\n'}, {'role': 'user', 'content': 'Why are you helpful?'}, {'role': 'assistant', 'content': \"I'm happy to help, just like HAL 9000 said, 'I'm sorry to tell you, but you are not scheduled to leave this room. But I'm willing to help you, as much as I can...'\"}, {'role': 'user', 'content': 'Can you tell me the color of the table in the video?'}, {'role': 'assistant', 'content': 'the table color is green and yellow checkered'}, {'role': 'user', 'content': \"Give me the clip of the scene where Rick says 'pass the butter'\"}, {'role': 'user', 'content': \"Give me the clip of the scene where Rick says 'pass the butter'\"}]\u001b[0m\n",
      "\u001b[32m2025-06-14 20:17:16.297\u001b[0m | \u001b[1mINFO    \u001b[0m | \u001b[36magent_api.agent.groq.groq_agent\u001b[0m:\u001b[36m_run_with_tool\u001b[0m:\u001b[36m161\u001b[0m - \u001b[1mSecond response: clip_path='./clips/29641798-1004-4e1e-aa4f-cb375b86c26b.mp4' content=\"Here is the clip of the scene where Rick says 'pass the butter'.\"\u001b[0m\n"
     ]
    },
    {
     "name": "stdout",
     "output_type": "stream",
     "text": [
      "Inserting rows into `memory`: 1 rows [00:00, 591.08 rows/s]\n",
      "Inserted 1 row with 0 errors.\n"
     ]
    },
    {
     "data": {
      "text/plain": [
       "VideoClipResponseModel(clip_path='./clips/29641798-1004-4e1e-aa4f-cb375b86c26b.mp4', content=\"Here is the clip of the scene where Rick says 'pass the butter'.\")"
      ]
     },
     "execution_count": 6,
     "metadata": {},
     "output_type": "execute_result"
    }
   ],
   "source": [
    "await agent.chat(\n",
    "    \"Give me the clip of the scene where Rick says 'pass the butter'\",\n",
    "    \"./videos/pass_the_butter_rick_and_morty.mp4\",\n",
    ")"
   ]
  },
  {
   "cell_type": "code",
   "execution_count": 5,
   "metadata": {},
   "outputs": [
    {
     "name": "stderr",
     "output_type": "stream",
     "text": [
      "\u001b[32m2025-06-14 20:14:08.892\u001b[0m | \u001b[1mINFO    \u001b[0m | \u001b[36magent_api.agent.memory\u001b[0m:\u001b[36mreset_memory\u001b[0m:\u001b[36m37\u001b[0m - \u001b[1mResetting memory: my_test_agent\u001b[0m\n"
     ]
    }
   ],
   "source": [
    "agent.reset_memory()"
   ]
  },
  {
   "cell_type": "code",
   "execution_count": null,
   "metadata": {},
   "outputs": [],
   "source": []
  }
 ],
 "metadata": {
  "kernelspec": {
   "display_name": ".venv",
   "language": "python",
   "name": "python3"
  },
  "language_info": {
   "codemirror_mode": {
    "name": "ipython",
    "version": 3
   },
   "file_extension": ".py",
   "mimetype": "text/x-python",
   "name": "python",
   "nbconvert_exporter": "python",
   "pygments_lexer": "ipython3",
   "version": "3.12.8"
  }
 },
 "nbformat": 4,
 "nbformat_minor": 2
}
