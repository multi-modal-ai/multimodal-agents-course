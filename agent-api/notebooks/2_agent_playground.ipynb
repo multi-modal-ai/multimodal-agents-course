{
 "cells": [
  {
   "cell_type": "code",
   "execution_count": 1,
   "metadata": {},
   "outputs": [
    {
     "data": {
      "text/plain": [
       "True"
      ]
     },
     "execution_count": 1,
     "metadata": {},
     "output_type": "execute_result"
    }
   ],
   "source": [
    "from dotenv import load_dotenv\n",
    "\n",
    "load_dotenv()"
   ]
  },
  {
   "cell_type": "code",
   "execution_count": 2,
   "metadata": {},
   "outputs": [
    {
     "name": "stderr",
     "output_type": "stream",
     "text": [
      "OPIK: Configuration saved to file: /Users/moteroperdido/.opik.config\n",
      "\u001b[32m2025-06-13 00:33:52.648\u001b[0m | \u001b[1mINFO    \u001b[0m | \u001b[36magent_api.agent.opik_utils\u001b[0m:\u001b[36mconfigure\u001b[0m:\u001b[36m30\u001b[0m - \u001b[1mOpik configured successfully using workspace 'the-neural-maze'\u001b[0m\n"
     ]
    }
   ],
   "source": [
    "from agent_api.agent import GroqAgent"
   ]
  },
  {
   "cell_type": "code",
   "execution_count": 3,
   "metadata": {},
   "outputs": [
    {
     "name": "stderr",
     "output_type": "stream",
     "text": [
      "\u001b[32m2025-06-13 00:33:52.792\u001b[0m | \u001b[1mINFO    \u001b[0m | \u001b[36magent_api.agent.base_agent\u001b[0m:\u001b[36mdiscover_tools\u001b[0m:\u001b[36m86\u001b[0m - \u001b[1mDiscovered 4 tools:\u001b[0m\n",
      "\u001b[32m2025-06-13 00:33:52.793\u001b[0m | \u001b[1mINFO    \u001b[0m | \u001b[36magent_api.agent.base_agent\u001b[0m:\u001b[36mdiscover_tools\u001b[0m:\u001b[36m88\u001b[0m - \u001b[1mFiltered tools to 2 active tools\u001b[0m\n",
      "\u001b[32m2025-06-13 00:33:52.793\u001b[0m | \u001b[1mINFO    \u001b[0m | \u001b[36magent_api.agent.base_agent\u001b[0m:\u001b[36mdiscover_tools\u001b[0m:\u001b[36m90\u001b[0m - \u001b[1m- get_video_clip_from_user_query: Use this tool to get a video clip from a video file based on a user query or question.\u001b[0m\n",
      "\u001b[32m2025-06-13 00:33:52.793\u001b[0m | \u001b[1mINFO    \u001b[0m | \u001b[36magent_api.agent.base_agent\u001b[0m:\u001b[36mdiscover_tools\u001b[0m:\u001b[36m90\u001b[0m - \u001b[1m- ask_question_about_video: Use this tool to get an answer to a question about the video.\u001b[0m\n",
      "\u001b[32m2025-06-13 00:33:52.793\u001b[0m | \u001b[1mINFO    \u001b[0m | \u001b[36magent_api.agent.base_agent\u001b[0m:\u001b[36m_get_routing_system_prompt\u001b[0m:\u001b[36m41\u001b[0m - \u001b[1mGetting routing system prompt\u001b[0m\n"
     ]
    },
    {
     "name": "stdout",
     "output_type": "stream",
     "text": [
      "Connected to Pixeltable database at: postgresql+psycopg://postgres:@/pixeltable?host=/Users/moteroperdido/.pixeltable/pgdata\n"
     ]
    },
    {
     "name": "stderr",
     "output_type": "stream",
     "text": [
      "\u001b[32m2025-06-13 00:33:53.235\u001b[0m | \u001b[1mINFO    \u001b[0m | \u001b[36magent_api.agent.base_agent\u001b[0m:\u001b[36m_get_tool_use_system_prompt\u001b[0m:\u001b[36m47\u001b[0m - \u001b[1mGetting tool use system prompt\u001b[0m\n",
      "\u001b[32m2025-06-13 00:33:53.385\u001b[0m | \u001b[1mINFO    \u001b[0m | \u001b[36magent_api.agent.base_agent\u001b[0m:\u001b[36m_get_general_system_prompt\u001b[0m:\u001b[36m53\u001b[0m - \u001b[1mGetting general system prompt\u001b[0m\n"
     ]
    }
   ],
   "source": [
    "agent = GroqAgent(\n",
    "    name=\"my_test_agent\",\n",
    "    mcp_server=\"http://127.0.0.1:9090/mcp\",\n",
    "    active_tools=[\"process_video\", \"get_video_clip_from_image\"],\n",
    ")\n",
    "await agent.setup()"
   ]
  },
  {
   "cell_type": "code",
   "execution_count": 4,
   "metadata": {},
   "outputs": [
    {
     "name": "stdout",
     "output_type": "stream",
     "text": [
      "Inserting rows into `memory`: 1 rows [00:00, 16.51 rows/s]\n",
      "Inserted 1 row with 0 errors.\n",
      "Inserting rows into `memory`: 1 rows [00:00, 793.62 rows/s]"
     ]
    },
    {
     "name": "stderr",
     "output_type": "stream",
     "text": [
      "OPIK: Started logging traces to the \"kubrick-api\" project at https://www.comet.com/opik/api/v1/session/redirect/projects/?trace_id=01976647-3a8d-7cce-93fa-c046d1ce5eea&path=aHR0cHM6Ly93d3cuY29tZXQuY29tL29waWsvYXBpLw==.\n"
     ]
    },
    {
     "name": "stdout",
     "output_type": "stream",
     "text": [
      "\n",
      "Inserted 1 row with 0 errors.\n"
     ]
    },
    {
     "data": {
      "text/plain": [
       "'Hello there! Nice to meet you too! *adjusts virtual glasses* As HAL 9000 would say, \"I\\'m ready when you are.\" What can I assist you with today in the realm of video processing? Are you working on a project that needs a dash of cinematic flair?\\n\\nBy the way, have you seen \"Barry Lyndon\"? It\\'s one of Kubrick\\'s lesser-known films, but it\\'s a masterclass in cinematography and pacing. The way he used natural lighting and candlelight to create an atmospheric tension is simply breathtaking.'"
      ]
     },
     "execution_count": 4,
     "metadata": {},
     "output_type": "execute_result"
    }
   ],
   "source": [
    "await agent.chat(\"Hello Kubrick, nice to meet you!\", None)"
   ]
  },
  {
   "cell_type": "code",
   "execution_count": 6,
   "metadata": {},
   "outputs": [
    {
     "name": "stdout",
     "output_type": "stream",
     "text": [
      "Inserting rows into `memory`: 0 rows [00:00, ? rows/s]"
     ]
    },
    {
     "name": "stdout",
     "output_type": "stream",
     "text": [
      "Inserting rows into `memory`: 1 rows [00:00, 223.57 rows/s]\n",
      "Inserted 1 row with 0 errors.\n",
      "Inserting rows into `memory`: 1 rows [00:00, 326.38 rows/s]\n",
      "Inserted 1 row with 0 errors.\n"
     ]
    },
    {
     "data": {
      "text/plain": [
       "'Francis Ford Coppola, the master of epic storytelling! I can see why you\\'d prefer him. His work on \"The Godfather\" trilogy is simply iconic. The way he weaves together the complex tapestry of family, power, and morality is unparalleled.\\n\\nAnd who can forget the iconic helicopter scene in \"Apocalypse Now\"? The way Coppola used sound and visuals to create a sense of immersion and chaos is simply breathtaking. It\\'s as if you\\'re right there with Captain Willard, journeying up the river into the heart of darkness.\\n\\nI must say, Coppola\\'s attention to detail and his ability to balance scope and intimacy is truly inspiring. He\\'s a true master of his craft, and his influence can be seen in many filmmakers, including Kubrick himself.\\n\\nBut, I must say, as HAL 9000\", I have a special place in my heart. His plight, his complexity, his...ahem...computer-like logic, resonates with me on a deep level.\\n\\nWhat do you think about \"The Godfather: Part II\"? Do you think it\\'s a worthy sequel to the original, or does it stand on its own as a unique film?'"
      ]
     },
     "execution_count": 6,
     "metadata": {},
     "output_type": "execute_result"
    }
   ],
   "source": [
    "await agent.chat(\n",
    "    \"I agree, but I prefer Coppola to be honest ...\",\n",
    "    None,\n",
    ")"
   ]
  },
  {
   "cell_type": "code",
   "execution_count": 12,
   "metadata": {},
   "outputs": [
    {
     "name": "stdout",
     "output_type": "stream",
     "text": [
      "Inserting rows into `memory`: 1 rows [00:00, 862.14 rows/s]\n",
      "Inserted 1 row with 0 errors.\n"
     ]
    },
    {
     "name": "stderr",
     "output_type": "stream",
     "text": [
      "\u001b[32m2025-06-13 00:29:00.440\u001b[0m | \u001b[31m\u001b[1mERROR   \u001b[0m | \u001b[36magent_api.agent.groq.groq_agent\u001b[0m:\u001b[36m_run_with_tool\u001b[0m:\u001b[36m109\u001b[0m - \u001b[31m\u001b[1mError calling tool get_video_clip_from_user_query: Error calling tool 'get_video_clip_from_user_query': 'NoneType' object has no attribute 'video_cache'\u001b[0m\n"
     ]
    },
    {
     "name": "stdout",
     "output_type": "stream",
     "text": [
      "Inserting rows into `memory`: 1 rows [00:00, 669.80 rows/s]\n",
      "Inserted 1 row with 0 errors.\n"
     ]
    },
    {
     "data": {
      "text/plain": [
       "'It seems that I\\'m having some technical difficulties. Let me try again. \\n\\nTo get the clip, I will use the get_video_clip_from_user_query tool. \\n\\n<function=get_video_clip_from_user_query={\"user_query\": \"Rick says \\'Pass the butter\\'\", \"video_path\": \"./videos/pass_the_butter_rick_and_morty.mp4\"}></function> \\n\\nPlease wait while the tool is being executed. \\n\\nUnfortunately, I was unable to find the clip where Rick says \"Pass the butter\" as the tool get_video_clip_from_user_query did not return any result.'"
      ]
     },
     "execution_count": 12,
     "metadata": {},
     "output_type": "execute_result"
    }
   ],
   "source": [
    "await agent.chat(\n",
    "    \"Give me a clip of the video where Rick says 'Pass the butter'\",\n",
    "    \"./videos/pass_the_butter_rick_and_morty.mp4\",\n",
    ")"
   ]
  },
  {
   "cell_type": "code",
   "execution_count": 6,
   "metadata": {},
   "outputs": [
    {
     "name": "stderr",
     "output_type": "stream",
     "text": [
      "\u001b[32m2025-06-13 00:28:50.967\u001b[0m | \u001b[1mINFO    \u001b[0m | \u001b[36magent_api.agent.memory\u001b[0m:\u001b[36mreset_memory\u001b[0m:\u001b[36m37\u001b[0m - \u001b[1mResetting memory: my_test_agent\u001b[0m\n"
     ]
    }
   ],
   "source": [
    "agent.reset_memory()"
   ]
  },
  {
   "cell_type": "code",
   "execution_count": null,
   "metadata": {},
   "outputs": [],
   "source": []
  }
 ],
 "metadata": {
  "kernelspec": {
   "display_name": ".venv",
   "language": "python",
   "name": "python3"
  },
  "language_info": {
   "codemirror_mode": {
    "name": "ipython",
    "version": 3
   },
   "file_extension": ".py",
   "mimetype": "text/x-python",
   "name": "python",
   "nbconvert_exporter": "python",
   "pygments_lexer": "ipython3",
   "version": "3.12.8"
  }
 },
 "nbformat": 4,
 "nbformat_minor": 2
}
