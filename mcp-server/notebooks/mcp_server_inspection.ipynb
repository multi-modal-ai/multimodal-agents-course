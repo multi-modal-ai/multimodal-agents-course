{
 "cells": [
  {
   "cell_type": "markdown",
   "metadata": {},
   "source": [
    "In this notebook, we will play around with the MCP server, understanding the tools, resources and prompts it exposes."
   ]
  },
  {
   "cell_type": "code",
   "execution_count": 3,
   "metadata": {},
   "outputs": [
    {
     "name": "stderr",
     "output_type": "stream",
     "text": [
      "Traceback (most recent call last):\n",
      "  File \"/Users/moteroperdido/Desktop/projects/the_neural_maze/projects/multimodal-agents-course/mcp-server/.venv/lib/python3.12/site-packages/IPython/core/interactiveshell.py\", line 3668, in run_code\n",
      "    await eval(code_obj, self.user_global_ns, self.user_ns)\n",
      "  File \"/var/folders/fd/rk2m5pcs7wg0z858my_zgltm0000gn/T/ipykernel_38663/1292879623.py\", line 23, in <module>\n",
      "    await test_mcp()\n",
      "  File \"/var/folders/fd/rk2m5pcs7wg0z858my_zgltm0000gn/T/ipykernel_38663/1292879623.py\", line 8, in test_mcp\n",
      "    async with mcp_client:\n",
      "               ^^^^^^^^^^\n",
      "  File \"/Users/moteroperdido/Desktop/projects/the_neural_maze/projects/multimodal-agents-course/mcp-server/.venv/lib/python3.12/site-packages/fastmcp/client/client.py\", line 250, in __aenter__\n",
      "    await stack.enter_async_context(self._context_manager())\n",
      "  File \"/Users/moteroperdido/.local/share/uv/python/cpython-3.12.8-macos-aarch64-none/lib/python3.12/contextlib.py\", line 659, in enter_async_context\n",
      "    result = await _enter(cm)\n",
      "             ^^^^^^^^^^^^^^^^\n",
      "  File \"/Users/moteroperdido/.local/share/uv/python/cpython-3.12.8-macos-aarch64-none/lib/python3.12/contextlib.py\", line 210, in __aenter__\n",
      "    return await anext(self.gen)\n",
      "           ^^^^^^^^^^^^^^^^^^^^^\n",
      "  File \"/Users/moteroperdido/Desktop/projects/the_neural_maze/projects/multimodal-agents-course/mcp-server/.venv/lib/python3.12/site-packages/fastmcp/client/client.py\", line 225, in _context_manager\n",
      "    with catch(get_catch_handlers()):\n",
      "         ^^^^^^^^^^^^^^^^^^^^^^^^^^^\n",
      "  File \"/Users/moteroperdido/Desktop/projects/the_neural_maze/projects/multimodal-agents-course/mcp-server/.venv/lib/python3.12/site-packages/exceptiongroup/_catch.py\", line 39, in __exit__\n",
      "    raise unhandled from exc.__cause__\n",
      "  File \"/Users/moteroperdido/Desktop/projects/the_neural_maze/projects/multimodal-agents-course/mcp-server/.venv/lib/python3.12/site-packages/exceptiongroup/_catch.py\", line 65, in handle_exception\n",
      "    result = handler(matched)\n",
      "             ^^^^^^^^^^^^^^^^\n",
      "  File \"/Users/moteroperdido/Desktop/projects/the_neural_maze/projects/multimodal-agents-course/mcp-server/.venv/lib/python3.12/site-packages/fastmcp/utilities/exceptions.py\", line 29, in _exception_handler\n",
      "    raise leaf\n",
      "  File \"/Users/moteroperdido/Desktop/projects/the_neural_maze/projects/multimodal-agents-course/mcp-server/.venv/lib/python3.12/site-packages/mcp/client/sse.py\", line 58, in sse_client\n",
      "    async with aconnect_sse(\n",
      "               ^^^^^^^^^^^^^\n",
      "  File \"/Users/moteroperdido/.local/share/uv/python/cpython-3.12.8-macos-aarch64-none/lib/python3.12/contextlib.py\", line 210, in __aenter__\n",
      "    return await anext(self.gen)\n",
      "           ^^^^^^^^^^^^^^^^^^^^^\n",
      "  File \"/Users/moteroperdido/Desktop/projects/the_neural_maze/projects/multimodal-agents-course/mcp-server/.venv/lib/python3.12/site-packages/httpx_sse/_api.py\", line 69, in aconnect_sse\n",
      "    async with client.stream(method, url, headers=headers, **kwargs) as response:\n",
      "               ^^^^^^^^^^^^^^^^^^^^^^^^^^^^^^^^^^^^^^^^^^^^^^^^^^^^^\n",
      "  File \"/Users/moteroperdido/.local/share/uv/python/cpython-3.12.8-macos-aarch64-none/lib/python3.12/contextlib.py\", line 210, in __aenter__\n",
      "    return await anext(self.gen)\n",
      "           ^^^^^^^^^^^^^^^^^^^^^\n",
      "  File \"/Users/moteroperdido/Desktop/projects/the_neural_maze/projects/multimodal-agents-course/mcp-server/.venv/lib/python3.12/site-packages/httpx/_client.py\", line 1583, in stream\n",
      "    response = await self.send(\n",
      "               ^^^^^^^^^^^^^^^^\n",
      "  File \"/Users/moteroperdido/Desktop/projects/the_neural_maze/projects/multimodal-agents-course/mcp-server/.venv/lib/python3.12/site-packages/httpx/_client.py\", line 1629, in send\n",
      "    response = await self._send_handling_auth(\n",
      "               ^^^^^^^^^^^^^^^^^^^^^^^^^^^^^^^\n",
      "  File \"/Users/moteroperdido/Desktop/projects/the_neural_maze/projects/multimodal-agents-course/mcp-server/.venv/lib/python3.12/site-packages/httpx/_client.py\", line 1657, in _send_handling_auth\n",
      "    response = await self._send_handling_redirects(\n",
      "               ^^^^^^^^^^^^^^^^^^^^^^^^^^^^^^^^^^^^\n",
      "  File \"/Users/moteroperdido/Desktop/projects/the_neural_maze/projects/multimodal-agents-course/mcp-server/.venv/lib/python3.12/site-packages/httpx/_client.py\", line 1694, in _send_handling_redirects\n",
      "    response = await self._send_single_request(request)\n",
      "               ^^^^^^^^^^^^^^^^^^^^^^^^^^^^^^^^^^^^^^^^\n",
      "  File \"/Users/moteroperdido/Desktop/projects/the_neural_maze/projects/multimodal-agents-course/mcp-server/.venv/lib/python3.12/site-packages/httpx/_client.py\", line 1730, in _send_single_request\n",
      "    response = await transport.handle_async_request(request)\n",
      "               ^^^^^^^^^^^^^^^^^^^^^^^^^^^^^^^^^^^^^^^^^^^^^\n",
      "  File \"/Users/moteroperdido/Desktop/projects/the_neural_maze/projects/multimodal-agents-course/mcp-server/.venv/lib/python3.12/site-packages/httpx/_transports/default.py\", line 393, in handle_async_request\n",
      "    with map_httpcore_exceptions():\n",
      "         ^^^^^^^^^^^^^^^^^^^^^^^^^\n",
      "  File \"/Users/moteroperdido/.local/share/uv/python/cpython-3.12.8-macos-aarch64-none/lib/python3.12/contextlib.py\", line 158, in __exit__\n",
      "    self.gen.throw(value)\n",
      "  File \"/Users/moteroperdido/Desktop/projects/the_neural_maze/projects/multimodal-agents-course/mcp-server/.venv/lib/python3.12/site-packages/httpx/_transports/default.py\", line 118, in map_httpcore_exceptions\n",
      "    raise mapped_exc(message) from exc\n",
      "httpx.ConnectError: All connection attempts failed\n"
     ]
    }
   ],
   "source": [
    "\n",
    "from fastmcp import Client\n",
    "\n",
    "\n",
    "async def test_mcp():\n",
    "    mcp_client = Client(\"http://127.0.0.1:8080/sse\")\n",
    "    async with mcp_client:\n",
    "        tools = await mcp_client.list_tools()\n",
    "        for tool in tools:\n",
    "            print(f\"Tool name: {tool.name}\")\n",
    "            print(f\"Tool description: {tool.description}\")\n",
    "            print()\n",
    "\n",
    "        response = await mcp_client.call_tool(\n",
    "            \"add_video\",\n",
    "            {\n",
    "                \"video_name\": \"/home/razvantalexandru/Documents/Projects/NeuralBits/multimodal-agents-course/.cache/por_vs_esp_5min/2018_portugal_vs_spain_T0h0m_0h5m.mp4\",\n",
    "            },\n",
    "        )\n",
    "        print(f\"Response from add_video: {response}\")\n",
    "\n",
    "\n",
    "await test_mcp()"
   ]
  },
  {
   "cell_type": "code",
   "execution_count": null,
   "metadata": {},
   "outputs": [],
   "source": []
  }
 ],
 "metadata": {
  "kernelspec": {
   "display_name": ".venv",
   "language": "python",
   "name": "python3"
  },
  "language_info": {
   "codemirror_mode": {
    "name": "ipython",
    "version": 3
   },
   "file_extension": ".py",
   "mimetype": "text/x-python",
   "name": "python",
   "nbconvert_exporter": "python",
   "pygments_lexer": "ipython3",
   "version": "3.12.8"
  }
 },
 "nbformat": 4,
 "nbformat_minor": 2
}
