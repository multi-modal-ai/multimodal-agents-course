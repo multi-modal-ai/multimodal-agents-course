{
 "cells": [
  {
   "cell_type": "markdown",
   "metadata": {},
   "source": [
    "# Testing the MCP Server"
   ]
  },
  {
   "cell_type": "markdown",
   "metadata": {},
   "source": [
    "In this notebook, we will play around with the MCP server, understanding the tools, resources and prompts it exposes."
   ]
  },
  {
   "cell_type": "markdown",
   "metadata": {},
   "source": [
    "### MCP Client"
   ]
  },
  {
   "cell_type": "code",
   "execution_count": 1,
   "metadata": {},
   "outputs": [],
   "source": [
    "from fastmcp import Client\n",
    "\n",
    "client = Client(\"http://127.0.0.1:8000/mcp\")"
   ]
  },
  {
   "cell_type": "markdown",
   "metadata": {},
   "source": [
    "### Listing every tool available"
   ]
  },
  {
   "cell_type": "code",
   "execution_count": 2,
   "metadata": {},
   "outputs": [
    {
     "name": "stdout",
     "output_type": "stream",
     "text": [
      "Tool name: process_video\n",
      "Tool description: Process a video file and prepare it for searching.\n",
      "Tool name: list_tables\n",
      "Tool description: List all processed videos in the database.\n",
      "Tool name: get_clip_by_speech_sim\n",
      "Tool description: Get a video clip based on a user query using the transcripts index.\n",
      "Tool name: get_clip_by_image_sim\n",
      "Tool description: Get a video clip based on a user query using the image index.\n",
      "Tool name: get_clip_by_caption_sim\n",
      "Tool description: Get a video clip based on a user query using the caption index.\n"
     ]
    }
   ],
   "source": [
    "async with client:\n",
    "    tools = await client.list_tools()\n",
    "    for tool in tools:\n",
    "        print(f\"Tool name: {tool.name}\")\n",
    "        print(f\"Tool description: {tool.description}\")"
   ]
  },
  {
   "cell_type": "markdown",
   "metadata": {},
   "source": [
    "### Calling the tools"
   ]
  },
  {
   "cell_type": "markdown",
   "metadata": {},
   "source": [
    "Now that we know what tools are available, we can call them manually. This is exactly what's going to happen when the agent is calling the tools from the Agentic API.\n",
    "\n",
    "The first tool we're going to call is the `process_video` tool. This tool is going to process a video and prepare it for searching."
   ]
  },
  {
   "cell_type": "code",
   "execution_count": 3,
   "metadata": {},
   "outputs": [
    {
     "name": "stdout",
     "output_type": "stream",
     "text": [
      "[TextContent(type='text', text='Video processed successfully', annotations=None)]\n"
     ]
    }
   ],
   "source": [
    "async with client:\n",
    "    result = await client.call_tool(\n",
    "        \"process_video\",\n",
    "        {\n",
    "            \"video_path\": \"./videos/spain_vs_portugal_european_championship.mp4\"\n",
    "        }\n",
    "    )\n",
    "    print(result)"
   ]
  },
  {
   "cell_type": "code",
   "execution_count": 4,
   "metadata": {},
   "outputs": [
    {
     "name": "stdout",
     "output_type": "stream",
     "text": [
      "[TextContent(type='text', text='Current video indexes: ./videos/spain_vs_portugal_european_championship.mp4', annotations=None)]\n"
     ]
    }
   ],
   "source": [
    "async with client:\n",
    "    result = await client.call_tool(\n",
    "        \"list_tables\"\n",
    "    )\n",
    "    print(result)"
   ]
  },
  {
   "cell_type": "code",
   "execution_count": null,
   "metadata": {},
   "outputs": [
    {
     "name": "stderr",
     "output_type": "stream",
     "text": [
      "Traceback (most recent call last):\n",
      "  File \"/Users/moteroperdido/Desktop/projects/the_neural_maze/projects/multimodal-agents-course/mcp-server/.venv/lib/python3.12/site-packages/IPython/core/interactiveshell.py\", line 3668, in run_code\n",
      "    await eval(code_obj, self.user_global_ns, self.user_ns)\n",
      "  File \"/var/folders/fd/rk2m5pcs7wg0z858my_zgltm0000gn/T/ipykernel_39605/2164926740.py\", line 2, in <module>\n",
      "    result = await client.call_tool(\n",
      "             ^^^^^^^^^^^^^^^^^^^^^^^\n",
      "  File \"/Users/moteroperdido/Desktop/projects/the_neural_maze/projects/multimodal-agents-course/mcp-server/.venv/lib/python3.12/site-packages/fastmcp/client/client.py\", line 640, in call_tool\n",
      "    raise ToolError(msg)\n",
      "fastmcp.exceptions.ToolError: Error calling tool 'get_clip_by_speech_sim': missing a required argument: 'frame'\n"
     ]
    }
   ],
   "source": [
    "async with client:\n",
    "    result = await client.call_tool(\n",
    "        \"get_clip_by_speech_sim\",\n",
    "        {\n",
    "            \"video_name\": \"./videos/spain_vs_portugal_european_championship.mp4\",\n",
    "            \"user_query\": \"Sergio Ramos handshakes with Cristiano Ronaldo\"\n",
    "        }\n",
    "    )\n",
    "    print(result)"
   ]
  },
  {
   "cell_type": "code",
   "execution_count": null,
   "metadata": {},
   "outputs": [],
   "source": []
  }
 ],
 "metadata": {
  "kernelspec": {
   "display_name": "mcp-server-venv",
   "language": "python",
   "name": "mcp-server-venv"
  },
  "language_info": {
   "codemirror_mode": {
    "name": "ipython",
    "version": 3
   },
   "file_extension": ".py",
   "mimetype": "text/x-python",
   "name": "python",
   "nbconvert_exporter": "python",
   "pygments_lexer": "ipython3",
   "version": "3.12.8"
  }
 },
 "nbformat": 4,
 "nbformat_minor": 4
}
